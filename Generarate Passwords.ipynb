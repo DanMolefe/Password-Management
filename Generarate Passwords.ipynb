{
 "cells": [
  {
   "cell_type": "markdown",
   "metadata": {},
   "source": [
    "---\n",
    "## Goal: Write code that can be used for generating strong passwords to replace existing passwords ##\n",
    "---"
   ]
  },
  {
   "cell_type": "code",
   "execution_count": 57,
   "metadata": {},
   "outputs": [],
   "source": [
    "# Load packages\n",
    "import random\n",
    "import string  \n",
    "import pandas as pd"
   ]
  },
  {
   "cell_type": "code",
   "execution_count": null,
   "metadata": {},
   "outputs": [],
   "source": [
    "# Define the file path as a variable\n",
    "file_path = '...'\n",
    "\n",
    "# read file with existing products and passwords to be updated\n",
    "df = pd.read_excel(file_path+\"Password.xlsx\", sheet_name='old_pswd')"
   ]
  },
  {
   "cell_type": "code",
   "execution_count": 59,
   "metadata": {},
   "outputs": [
    {
     "data": {
      "text/html": [
       "<div>\n",
       "<style scoped>\n",
       "    .dataframe tbody tr th:only-of-type {\n",
       "        vertical-align: middle;\n",
       "    }\n",
       "\n",
       "    .dataframe tbody tr th {\n",
       "        vertical-align: top;\n",
       "    }\n",
       "\n",
       "    .dataframe thead th {\n",
       "        text-align: right;\n",
       "    }\n",
       "</style>\n",
       "<table border=\"1\" class=\"dataframe\">\n",
       "  <thead>\n",
       "    <tr style=\"text-align: right;\">\n",
       "      <th></th>\n",
       "      <th>Product</th>\n",
       "      <th>Password</th>\n",
       "    </tr>\n",
       "  </thead>\n",
       "  <tbody>\n",
       "    <tr>\n",
       "      <th>0</th>\n",
       "      <td>Anaconda</td>\n",
       "      <td>NaN</td>\n",
       "    </tr>\n",
       "    <tr>\n",
       "      <th>1</th>\n",
       "      <td>Apple</td>\n",
       "      <td>NaN</td>\n",
       "    </tr>\n",
       "    <tr>\n",
       "      <th>2</th>\n",
       "      <td>AWS</td>\n",
       "      <td>NaN</td>\n",
       "    </tr>\n",
       "    <tr>\n",
       "      <th>3</th>\n",
       "      <td>Chatgpt</td>\n",
       "      <td>NaN</td>\n",
       "    </tr>\n",
       "  </tbody>\n",
       "</table>\n",
       "</div>"
      ],
      "text/plain": [
       "    Product  Password\n",
       "0  Anaconda       NaN\n",
       "1     Apple       NaN\n",
       "2       AWS       NaN\n",
       "3   Chatgpt       NaN"
      ]
     },
     "execution_count": 59,
     "metadata": {},
     "output_type": "execute_result"
    }
   ],
   "source": [
    "df.head()"
   ]
  },
  {
   "cell_type": "code",
   "execution_count": 60,
   "metadata": {},
   "outputs": [],
   "source": [
    "def generate_password(Product, let_len, dig_len, punct_len):\n",
    "    '''\n",
    "    Accept user parameters: Product, let_len, dig_len and punct_len \n",
    "    Use random to generate random letters, digits and special characters\n",
    "    '''\n",
    "    # Define the characters to choose from\n",
    "    let = string.ascii_letters\n",
    "    dig = string.digits\n",
    "    punct = string.punctuation\n",
    "\n",
    "    # Randomly select characters from the pool\n",
    "    pass_let = ''.join(random.choice(let) for _ in range(let_len))\n",
    "    pass_dig = ''.join(random.choice(dig) for _ in range(dig_len))\n",
    "    pass_punct = ''.join(random.choice(punct) for _ in range(punct_len))\n",
    "    password = pass_let + pass_dig + pass_punct\n",
    "\n",
    "    return([Product, password.title()])"
   ]
  },
  {
   "cell_type": "code",
   "execution_count": 61,
   "metadata": {},
   "outputs": [
    {
     "name": "stdout",
     "output_type": "stream",
     "text": [
      "    Product     Password\n",
      "0  Anaconda  Jpmknru841}\n",
      "0     Apple  Hbirzhy834>\n",
      "0       AWS  Ndzxgsv217~\n",
      "0   Chatgpt  Yfduyun500:\n"
     ]
    }
   ],
   "source": [
    "# for each product submitted generate a password\n",
    "all_password = pd.DataFrame()\n",
    "\n",
    "for i in df['Product']:\n",
    "    # password generated will have 7 letters, 3 digits and 1 special character\n",
    "    [Product, Password] = generate_password(Product = i, let_len = 7, dig_len = 3, punct_len = 1)\n",
    "    res = pd.DataFrame({'Product' : Product, 'Password' : Password}, index=[0])\n",
    "    all_password = pd.concat([all_password, res])\n",
    " \n",
    "print(all_password)"
   ]
  },
  {
   "cell_type": "markdown",
   "metadata": {},
   "source": [
    "---\n",
    "## Observations ##\n",
    "---\n",
    "\n",
    "### Each product has a password attached where each password has: \n",
    " \n",
    "- 7 letters\n",
    "- 3 digits \n",
    "- 1 special character"
   ]
  },
  {
   "cell_type": "code",
   "execution_count": 62,
   "metadata": {},
   "outputs": [],
   "source": [
    "\n",
    "# Create an ExcelWriter object\n",
    "with pd.ExcelWriter(file_path + 'Password.xlsx') as writer:\n",
    "    # Write df1 to 'Sheet1'\n",
    "    df.to_excel(writer, sheet_name='old_pswd', index=False)\n",
    "    # Write df2 to 'Sheet2'\n",
    "    all_password.to_excel(writer, sheet_name='new_pswd', index=False)  "
   ]
  }
 ],
 "metadata": {
  "kernelspec": {
   "display_name": "base",
   "language": "python",
   "name": "python3"
  },
  "language_info": {
   "codemirror_mode": {
    "name": "ipython",
    "version": 3
   },
   "file_extension": ".py",
   "mimetype": "text/x-python",
   "name": "python",
   "nbconvert_exporter": "python",
   "pygments_lexer": "ipython3",
   "version": "3.12.3"
  }
 },
 "nbformat": 4,
 "nbformat_minor": 2
}
